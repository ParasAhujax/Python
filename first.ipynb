{
 "cells": [
  {
   "cell_type": "code",
   "execution_count": 2,
   "metadata": {},
   "outputs": [
    {
     "data": {
      "text/html": [
       "<div>\n",
       "<style scoped>\n",
       "    .dataframe tbody tr th:only-of-type {\n",
       "        vertical-align: middle;\n",
       "    }\n",
       "\n",
       "    .dataframe tbody tr th {\n",
       "        vertical-align: top;\n",
       "    }\n",
       "\n",
       "    .dataframe thead th {\n",
       "        text-align: right;\n",
       "    }\n",
       "</style>\n",
       "<table border=\"1\" class=\"dataframe\">\n",
       "  <thead>\n",
       "    <tr style=\"text-align: right;\">\n",
       "      <th></th>\n",
       "      <th>text</th>\n",
       "      <th>label</th>\n",
       "    </tr>\n",
       "  </thead>\n",
       "  <tbody>\n",
       "    <tr>\n",
       "      <th>0</th>\n",
       "      <td>I grew up (b. 1965) watching and loving the Th...</td>\n",
       "      <td>0</td>\n",
       "    </tr>\n",
       "    <tr>\n",
       "      <th>1</th>\n",
       "      <td>When I put this movie in my DVD player, and sa...</td>\n",
       "      <td>0</td>\n",
       "    </tr>\n",
       "    <tr>\n",
       "      <th>2</th>\n",
       "      <td>Why do people who do not know what a particula...</td>\n",
       "      <td>0</td>\n",
       "    </tr>\n",
       "    <tr>\n",
       "      <th>3</th>\n",
       "      <td>Even though I have great interest in Biblical ...</td>\n",
       "      <td>0</td>\n",
       "    </tr>\n",
       "    <tr>\n",
       "      <th>4</th>\n",
       "      <td>Im a die hard Dads Army fan and nothing will e...</td>\n",
       "      <td>1</td>\n",
       "    </tr>\n",
       "    <tr>\n",
       "      <th>...</th>\n",
       "      <td>...</td>\n",
       "      <td>...</td>\n",
       "    </tr>\n",
       "    <tr>\n",
       "      <th>39995</th>\n",
       "      <td>\"Western Union\" is something of a forgotten cl...</td>\n",
       "      <td>1</td>\n",
       "    </tr>\n",
       "    <tr>\n",
       "      <th>39996</th>\n",
       "      <td>This movie is an incredible piece of work. It ...</td>\n",
       "      <td>1</td>\n",
       "    </tr>\n",
       "    <tr>\n",
       "      <th>39997</th>\n",
       "      <td>My wife and I watched this movie because we pl...</td>\n",
       "      <td>0</td>\n",
       "    </tr>\n",
       "    <tr>\n",
       "      <th>39998</th>\n",
       "      <td>When I first watched Flatliners, I was amazed....</td>\n",
       "      <td>1</td>\n",
       "    </tr>\n",
       "    <tr>\n",
       "      <th>39999</th>\n",
       "      <td>Why would this film be so good, but only gross...</td>\n",
       "      <td>1</td>\n",
       "    </tr>\n",
       "  </tbody>\n",
       "</table>\n",
       "<p>40000 rows × 2 columns</p>\n",
       "</div>"
      ],
      "text/plain": [
       "                                                    text  label\n",
       "0      I grew up (b. 1965) watching and loving the Th...      0\n",
       "1      When I put this movie in my DVD player, and sa...      0\n",
       "2      Why do people who do not know what a particula...      0\n",
       "3      Even though I have great interest in Biblical ...      0\n",
       "4      Im a die hard Dads Army fan and nothing will e...      1\n",
       "...                                                  ...    ...\n",
       "39995  \"Western Union\" is something of a forgotten cl...      1\n",
       "39996  This movie is an incredible piece of work. It ...      1\n",
       "39997  My wife and I watched this movie because we pl...      0\n",
       "39998  When I first watched Flatliners, I was amazed....      1\n",
       "39999  Why would this film be so good, but only gross...      1\n",
       "\n",
       "[40000 rows x 2 columns]"
      ]
     },
     "execution_count": 2,
     "metadata": {},
     "output_type": "execute_result"
    }
   ],
   "source": [
    "import pandas as pd\n",
    "import numpy as np\n",
    "file_name = \"D:/Research Material/Idmb sentiment data/Train.csv\"\n",
    "data = pd.read_csv(file_name)\n",
    "data"
   ]
  },
  {
   "cell_type": "code",
   "execution_count": 3,
   "metadata": {},
   "outputs": [
    {
     "data": {
      "text/plain": [
       "text     0\n",
       "label    0\n",
       "dtype: int64"
      ]
     },
     "execution_count": 3,
     "metadata": {},
     "output_type": "execute_result"
    }
   ],
   "source": [
    "data.isna().sum()"
   ]
  },
  {
   "cell_type": "code",
   "execution_count": 4,
   "metadata": {},
   "outputs": [
    {
     "data": {
      "text/html": [
       "<div>\n",
       "<style scoped>\n",
       "    .dataframe tbody tr th:only-of-type {\n",
       "        vertical-align: middle;\n",
       "    }\n",
       "\n",
       "    .dataframe tbody tr th {\n",
       "        vertical-align: top;\n",
       "    }\n",
       "\n",
       "    .dataframe thead th {\n",
       "        text-align: right;\n",
       "    }\n",
       "</style>\n",
       "<table border=\"1\" class=\"dataframe\">\n",
       "  <thead>\n",
       "    <tr style=\"text-align: right;\">\n",
       "      <th></th>\n",
       "      <th>text</th>\n",
       "      <th>label</th>\n",
       "    </tr>\n",
       "  </thead>\n",
       "  <tbody>\n",
       "    <tr>\n",
       "      <th>0</th>\n",
       "      <td>I grew up (b. 1965) watching and loving the Th...</td>\n",
       "      <td>0</td>\n",
       "    </tr>\n",
       "    <tr>\n",
       "      <th>1</th>\n",
       "      <td>When I put this movie in my DVD player, and sa...</td>\n",
       "      <td>0</td>\n",
       "    </tr>\n",
       "    <tr>\n",
       "      <th>2</th>\n",
       "      <td>Why do people who do not know what a particula...</td>\n",
       "      <td>0</td>\n",
       "    </tr>\n",
       "    <tr>\n",
       "      <th>3</th>\n",
       "      <td>Even though I have great interest in Biblical ...</td>\n",
       "      <td>0</td>\n",
       "    </tr>\n",
       "    <tr>\n",
       "      <th>4</th>\n",
       "      <td>Im a die hard Dads Army fan and nothing will e...</td>\n",
       "      <td>1</td>\n",
       "    </tr>\n",
       "  </tbody>\n",
       "</table>\n",
       "</div>"
      ],
      "text/plain": [
       "                                                text  label\n",
       "0  I grew up (b. 1965) watching and loving the Th...      0\n",
       "1  When I put this movie in my DVD player, and sa...      0\n",
       "2  Why do people who do not know what a particula...      0\n",
       "3  Even though I have great interest in Biblical ...      0\n",
       "4  Im a die hard Dads Army fan and nothing will e...      1"
      ]
     },
     "execution_count": 4,
     "metadata": {},
     "output_type": "execute_result"
    }
   ],
   "source": [
    "data.head()"
   ]
  },
  {
   "cell_type": "code",
   "execution_count": 44,
   "metadata": {},
   "outputs": [
    {
     "name": "stdout",
     "output_type": "stream",
     "text": [
      "(32000,) (8000,) (32000,) (8000,)\n",
      "(28000,) (12000,) (28000,) (12000,)\n"
     ]
    }
   ],
   "source": [
    "from sklearn.model_selection import train_test_split\n",
    "x = data['text']\n",
    "y = data['label']\n",
    "x_train_20, x_test_20, y_train_20, y_test_20 = train_test_split(x,y,test_size=0.2,random_state=42)\n",
    "print(x_train_20.shape, x_test_20.shape, y_train_20.shape, y_test_20.shape)\n",
    "\n",
    "x_train_30, x_test_30, y_train_30, y_test_30 = train_test_split(x,y,test_size=0.3,random_state=42)\n",
    "print(x_train_30.shape, x_test_30.shape, y_train_30.shape, y_test_30.shape)\n"
   ]
  },
  {
   "cell_type": "code",
   "execution_count": 45,
   "metadata": {},
   "outputs": [],
   "source": [
    "from sklearn.feature_extraction.text import TfidfVectorizer\n",
    "\n",
    "tfidf_vectorizer_20 = TfidfVectorizer(max_features=5000)\n",
    "x_train_tfidf_20 = tfidf_vectorizer.fit_transform(x_train_20)\n",
    "x_test_tfidf_20 = tfidf_vectorizer.transform(x_test_20)\n",
    "\n",
    "\n",
    "tfidf_vectorizer_30 = TfidfVectorizer(max_features=5000)\n",
    "x_train_tfidf_30 = tfidf_vectorizer.fit_transform(x_train_30)\n",
    "x_test_tfidf_30 = tfidf_vectorizer.transform(x_test_30)"
   ]
  },
  {
   "cell_type": "code",
   "execution_count": 46,
   "metadata": {},
   "outputs": [],
   "source": [
    "from sklearn.naive_bayes import MultinomialNB\n",
    "\n",
    "naive_bayes_classifier = MultinomialNB()\n",
    "naive_bayes_classifier.fit(x_train_tfidf_20, y_train_20)\n",
    "y_pred_20 = naive_bayes_classifier.predict(x_test_tfidf_20)\n"
   ]
  },
  {
   "cell_type": "code",
   "execution_count": 47,
   "metadata": {},
   "outputs": [],
   "source": [
    "naive_bayes_classifier = MultinomialNB()\n",
    "naive_bayes_classifier.fit(x_train_tfidf_20, y_train_20)\n",
    "y_pred_30 = naive_bayes_classifier.predict(x_test_tfidf_30)"
   ]
  },
  {
   "cell_type": "code",
   "execution_count": 48,
   "metadata": {},
   "outputs": [],
   "source": [
    "from sklearn.metrics import accuracy_score, precision_score, recall_score, f1_score, confusion_matrix, classification_report, roc_auc_score\n",
    "\n",
    "accuracy_20 = accuracy_score(y_test_20, y_pred_20)\n",
    "precision_20 = precision_score(y_test_20, y_pred_20)\n",
    "recall_20 = recall_score(y_test_20, y_pred_20)\n",
    "f1_20 = f1_score(y_test_20, y_pred_20)\n",
    "roc_auc_20 = roc_auc_score(y_test_20, y_pred_20)\n",
    "conf_matrix_20 = confusion_matrix(y_test_20, y_pred_20)\n",
    "\n",
    "\n",
    "accuracy_30 = accuracy_score(y_test_30, y_pred_30)\n",
    "precision_30 = precision_score(y_test_30, y_pred_30)\n",
    "recall_30 = recall_score(y_test_30, y_pred_30)\n",
    "f1_30 = f1_score(y_test_30, y_pred_30)\n",
    "roc_auc_30 = roc_auc_score(y_test_30, y_pred_30)\n",
    "conf_matrix_30 = confusion_matrix(y_test_30, y_pred_30)"
   ]
  },
  {
   "cell_type": "code",
   "execution_count": 49,
   "metadata": {},
   "outputs": [],
   "source": [
    "class_report_20 = classification_report(y_test_20, y_pred_20, target_names=[\"Negative\", \"Positive\"])\n",
    "class_report_30 = classification_report(y_test_30, y_pred_30, target_names=[\"Negative\", \"Positive\"])"
   ]
  },
  {
   "cell_type": "code",
   "execution_count": 50,
   "metadata": {},
   "outputs": [
    {
     "name": "stdout",
     "output_type": "stream",
     "text": [
      "Accuracy_20: 0.85\n",
      "Accuracy_30: 0.51\n",
      "Precision_20: 0.85\n",
      "Precision_30: 0.51\n",
      "Recall_20: 0.85\n",
      "Recall_30: 0.77\n",
      "F1-Score_20: 0.85\n",
      "F1-Score_30: 0.61\n",
      "ROC-AUC Score_20: 0.85\n",
      "ROC-AUC Score_30: 0.51\n",
      "Confusion Matrix_20:\n",
      " [[3382  584]\n",
      " [ 603 3431]]\n",
      "Confusion Matrix_30:\n",
      " [[1482 4482]\n",
      " [1374 4662]]\n",
      "Classification Report_30:\n",
      "               precision    recall  f1-score   support\n",
      "\n",
      "    Negative       0.85      0.85      0.85      3966\n",
      "    Positive       0.85      0.85      0.85      4034\n",
      "\n",
      "    accuracy                           0.85      8000\n",
      "   macro avg       0.85      0.85      0.85      8000\n",
      "weighted avg       0.85      0.85      0.85      8000\n",
      "\n",
      "Classification Report_30:\n",
      "               precision    recall  f1-score   support\n",
      "\n",
      "    Negative       0.52      0.25      0.34      5964\n",
      "    Positive       0.51      0.77      0.61      6036\n",
      "\n",
      "    accuracy                           0.51     12000\n",
      "   macro avg       0.51      0.51      0.48     12000\n",
      "weighted avg       0.51      0.51      0.48     12000\n",
      "\n"
     ]
    }
   ],
   "source": [
    "print(f\"Accuracy_20: {accuracy_20:.2f}\")\n",
    "print(f\"Accuracy_30: {accuracy_30:.2f}\")\n",
    "print(f\"Precision_20: {precision_20:.2f}\")\n",
    "print(f\"Precision_30: {precision_30:.2f}\")\n",
    "print(f\"Recall_20: {recall_20:.2f}\")\n",
    "print(f\"Recall_30: {recall_30:.2f}\")\n",
    "print(f\"F1-Score_20: {f1_20:.2f}\")\n",
    "print(f\"F1-Score_30: {f1_30:.2f}\")\n",
    "print(f\"ROC-AUC Score_20: {roc_auc_20:.2f}\")\n",
    "print(f\"ROC-AUC Score_30: {roc_auc_30:.2f}\")\n",
    "print(\"Confusion Matrix_20:\\n\", conf_matrix_20)\n",
    "print(\"Confusion Matrix_30:\\n\", conf_matrix_30)\n",
    "print(\"Classification Report_30:\\n\", class_report_20)\n",
    "print(\"Classification Report_30:\\n\", class_report_30)"
   ]
  },
  {
   "cell_type": "code",
   "execution_count": null,
   "metadata": {},
   "outputs": [],
   "source": []
  }
 ],
 "metadata": {
  "kernelspec": {
   "display_name": "Python 3",
   "language": "python",
   "name": "python3"
  },
  "language_info": {
   "codemirror_mode": {
    "name": "ipython",
    "version": 3
   },
   "file_extension": ".py",
   "mimetype": "text/x-python",
   "name": "python",
   "nbconvert_exporter": "python",
   "pygments_lexer": "ipython3",
   "version": "3.11.4"
  },
  "orig_nbformat": 4
 },
 "nbformat": 4,
 "nbformat_minor": 2
}
